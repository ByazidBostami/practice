{
 "cells": [
  {
   "cell_type": "code",
   "execution_count": 5,
   "id": "539f351c",
   "metadata": {},
   "outputs": [
    {
     "name": "stdout",
     "output_type": "stream",
     "text": [
      "[2, 3, 4, 8]\n",
      "[1, 6, 7, 12]\n",
      "[5, 10, 11, 16]\n",
      "[9, 13, 14, 15]\n"
     ]
    }
   ],
   "source": [
    "def rotate(matrix):\n",
    "    n = len(matrix)\n",
    "    \n",
    "    # Save top-left corner to put later\n",
    "    temp = matrix[0][0]\n",
    "\n",
    "    # Move top row (left to right)\n",
    "    for j in range(n - 1):\n",
    "        matrix[0][j] = matrix[0][j + 1]\n",
    "    \n",
    "    # Move right column (top to bottom)\n",
    "    for i in range(n - 1):\n",
    "        matrix[i][n - 1] = matrix[i + 1][n - 1]\n",
    "    \n",
    "    # Move bottom row (right to left)\n",
    "    for j in range(n - 1, 0, -1):\n",
    "        matrix[n - 1][j] = matrix[n - 1][j - 1]\n",
    "    \n",
    "    # Move left column (bottom to top)\n",
    "    for i in range(n - 1, 1, -1):\n",
    "        matrix[i][0] = matrix[i - 1][0]\n",
    "    \n",
    "    # Place saved top-left value in its new position\n",
    "    matrix[1][0] = temp\n",
    " \n",
    "mat = [\n",
    "    [1, 2, 3, 4],\n",
    "    [5, 6, 7, 8],\n",
    "    [9,10,11,12],\n",
    "    [13,14,15,16]\n",
    "]\n",
    "\n",
    "rotate(mat)\n",
    "\n",
    "for row in mat:\n",
    "    print(row)"
   ]
  },
  {
   "cell_type": "code",
   "execution_count": 12,
   "id": "0824b642",
   "metadata": {},
   "outputs": [
    {
     "name": "stdout",
     "output_type": "stream",
     "text": [
      "Original list:\n",
      "101 -> 103 -> 103 -> 102 -> 103 -> 104 -> 105 -> 105\n",
      "List after removing duplicates:\n",
      "101 -> 103 -> 102 -> 104 -> 105\n"
     ]
    }
   ],
   "source": [
    "class Node:\n",
    "    def __init__(self, data):\n",
    "        self.data = data\n",
    "        self.next = None\n",
    "\n",
    "def remove_Duplicates(head):\n",
    "    current = head\n",
    "    while current:\n",
    "        runner = current\n",
    "        while runner.next:\n",
    "            if runner.next.data == current.data:\n",
    "                runner.next = runner.next.next\n",
    "            else:\n",
    "                runner = runner.next\n",
    "        current = current.next\n",
    "    return head\n",
    "\n",
    "def printList(head):\n",
    "    while head:\n",
    "        print(head.data, end=\" -> \" if head.next else \"\")\n",
    "        head = head.next\n",
    "    print()\n",
    "\n",
    "# Linked list: 101 -> 103 -> 103 -> 102 -> 103 -> 104 -> 105 -> 105\n",
    "head = Node(101)\n",
    "head.next = Node(103)\n",
    "head.next.next = Node(103)\n",
    "head.next.next.next = Node(102)\n",
    "head.next.next.next.next = Node(103)\n",
    "head.next.next.next.next.next = Node(104)\n",
    "head.next.next.next.next.next.next = Node(105)\n",
    "head.next.next.next.next.next.next.next = Node(105)\n",
    "\n",
    "print(\"Original list:\")\n",
    "printList(head)\n",
    "\n",
    "remove_Duplicates(head)\n",
    "\n",
    "print(\"List after removing duplicates:\")\n",
    "printList(head)\n"
   ]
  },
  {
   "cell_type": "code",
   "execution_count": 13,
   "id": "4dc73d62",
   "metadata": {},
   "outputs": [],
   "source": [
    "#question3Stack\n",
    "class Stack:\n",
    "    def __init__(self):\n",
    "        self.stack = []\n",
    "\n",
    "    def push(self, val):\n",
    "        self.stack.append(val)\n",
    "\n",
    "    def pop(self):\n",
    "        return self.stack.pop()\n",
    "\n",
    "    def peek(self):\n",
    "        return self.stack[-1]\n",
    "\n",
    "    def isEmpty(self):\n",
    "        return len(self.stack) == 0\n",
    "\n",
    "    def __str__(self):\n",
    "        return ' -> '.join(map(str, reversed(self.stack))) + \" (Top)\"\n",
    "\n",
    "def Do_Adjacent_Swap(st):\n",
    "    temp1 = Stack()\n",
    "    temp2 = Stack()\n",
    "    \n",
    "    while not st.isEmpty():\n",
    "        temp1.push(st.pop())\n",
    "        \n",
    "    while not temp1.isEmpty():\n",
    "        first = temp1.pop()\n",
    "        if not temp1.isEmpty():\n",
    "            second = temp1.pop()\n",
    "            temp2.push(first)\n",
    "            temp2.push(second)\n",
    "        else:\n",
    "            temp2.push(first)\n",
    "            \n",
    "    while not temp2.isEmpty():\n",
    "        st.push(temp2.pop())\n",
    "    return st"
   ]
  }
 ],
 "metadata": {
  "kernelspec": {
   "display_name": "Python 3",
   "language": "python",
   "name": "python3"
  },
  "language_info": {
   "codemirror_mode": {
    "name": "ipython",
    "version": 3
   },
   "file_extension": ".py",
   "mimetype": "text/x-python",
   "name": "python",
   "nbconvert_exporter": "python",
   "pygments_lexer": "ipython3",
   "version": "3.12.10"
  }
 },
 "nbformat": 4,
 "nbformat_minor": 5
}
