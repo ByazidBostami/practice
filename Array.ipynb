{
 "cells": [
  {
   "cell_type": "code",
   "execution_count": null,
   "id": "ee9c4db5",
   "metadata": {},
   "outputs": [
    {
     "name": "stdout",
     "output_type": "stream",
     "text": [
      "Found at index: 3\n"
     ]
    }
   ],
   "source": [
    "def binary_search(S, x):\n",
    "    L = 0\n",
    "    H = len(S) - 1\n",
    "\n",
    "    while L <= H:\n",
    "        M = (L + H) // 2\n",
    "        if x == S[M]:\n",
    "            return M\n",
    "        else:\n",
    "            if x > S[M]:\n",
    "                L = M + 1\n",
    "            else:\n",
    "                H = M - 1\n",
    "    return -1\n",
    "\n",
    "# Now call it\n",
    "sa = [1, 3, 5, 7, 9, 11]\n",
    "xa = 7\n",
    "result = binary_search(sa, xa)\n",
    "print(\"Found at index:\", result)  # Output: Found at index: 3\n",
    "\n"
   ]
  },
  {
   "cell_type": "code",
   "execution_count": 12,
   "id": "e1a145bb",
   "metadata": {},
   "outputs": [
    {
     "name": "stdout",
     "output_type": "stream",
     "text": [
      "[0, 0, 0, 0, 0]\n"
     ]
    }
   ],
   "source": [
    "import numpy as np\n",
    "def create_array(s):\n",
    "    array = [0]*s\n",
    "    return array\n",
    "\n",
    "arr = create_array(5)\n",
    "print(arr)"
   ]
  },
  {
   "cell_type": "code",
   "execution_count": 13,
   "id": "8dc12583",
   "metadata": {},
   "outputs": [
    {
     "name": "stdout",
     "output_type": "stream",
     "text": [
      "0\n",
      "34\n",
      "4\n",
      "5\n",
      "5\n",
      "4\n"
     ]
    }
   ],
   "source": [
    "#iterate\n",
    "arr = [0,34,4,5,5,4]\n",
    "def iterate(arr):\n",
    "    for elem in arr:\n",
    "        print(elem) \n",
    "        \n",
    "iterate(arr)\n",
    "\n"
   ]
  },
  {
   "cell_type": "code",
   "execution_count": null,
   "id": "2f6ecc24",
   "metadata": {},
   "outputs": [
    {
     "name": "stdout",
     "output_type": "stream",
     "text": [
      "Resized Up: [1 2 3 4 5 0 0]\n",
      "Resized Down: [1 2 3]\n"
     ]
    }
   ],
   "source": [
    "#resize\n",
    "import numpy as np\n",
    "\n",
    "def resize(arr, newSize):\n",
    "    newA = np.zeros(newSize, dtype=int)\n",
    "    for i in range(min(len(arr), newSize)):\n",
    "        newA[i] = arr[i]\n",
    "    return newA\n",
    "\n",
    "original = np.array([1, 2, 3, 4, 5])\n",
    "resized_up = resize(original, 7)   # [1 2 3 4 5 0 0]\n",
    "resized_down = resize(original, 3) # [1 2 3]\n",
    "\n",
    "print(\"Resized Up:\", resized_up)\n",
    "print(\"Resized Down:\", resized_down)\n"
   ]
  },
  {
   "cell_type": "code",
   "execution_count": null,
   "id": "6e084883",
   "metadata": {},
   "outputs": [],
   "source": [
    "#copy\n",
    "import numpy as np \n",
    "def copy(arr):\n",
    "    newArr = np.zeros_like(arr)\n",
    "    for i in range(len(arr)):\n",
    "        newArr[i] = arr[i]\n",
    "    return newArr\n",
    "\n"
   ]
  },
  {
   "cell_type": "code",
   "execution_count": null,
   "id": "fc17ca94",
   "metadata": {},
   "outputs": [],
   "source": [
    "#shift_left\n",
    "def shift_left(arr):\n",
    "    for i in range(len(arr)-1):\n",
    "        arr[i] = arr[i+1]\n",
    "    arr[-1] = 0"
   ]
  },
  {
   "cell_type": "code",
   "execution_count": 18,
   "id": "88ce591e",
   "metadata": {},
   "outputs": [],
   "source": [
    "#right_shift\n",
    "def shift_right(arr):\n",
    "    for i in range(len(arr)-1,0,-1):\n",
    "        arr[i] = arr[i-1]\n",
    "    arr[0] = 0"
   ]
  },
  {
   "cell_type": "code",
   "execution_count": 24,
   "id": "9cb2650b",
   "metadata": {},
   "outputs": [
    {
     "name": "stdout",
     "output_type": "stream",
     "text": [
      "[2, 3, 4, 3, 1]\n"
     ]
    }
   ],
   "source": [
    "#roted \n",
    "\n",
    "def rotation(arr):\n",
    "    check = arr[0]\n",
    "    for i in range(len(arr)-1):\n",
    "        arr[i] = arr[i+1]\n",
    "    arr[-1] =  check\n",
    "    return arr\n",
    "    \n",
    "arr = [1,2,3,4,3]\n",
    "print(rotation(arr))"
   ]
  }
 ],
 "metadata": {
  "kernelspec": {
   "display_name": "Python 3",
   "language": "python",
   "name": "python3"
  },
  "language_info": {
   "codemirror_mode": {
    "name": "ipython",
    "version": 3
   },
   "file_extension": ".py",
   "mimetype": "text/x-python",
   "name": "python",
   "nbconvert_exporter": "python",
   "pygments_lexer": "ipython3",
   "version": "3.12.10"
  }
 },
 "nbformat": 4,
 "nbformat_minor": 5
}
