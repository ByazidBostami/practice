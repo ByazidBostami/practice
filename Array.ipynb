{
 "cells": [
  {
   "cell_type": "code",
   "execution_count": null,
   "id": "ee9c4db5",
   "metadata": {},
   "outputs": [
    {
     "name": "stdout",
     "output_type": "stream",
     "text": [
      "Found at index: 3\n"
     ]
    }
   ],
   "source": [
    "def binary_search(S, x):\n",
    "    L = 0\n",
    "    H = len(S) - 1\n",
    "\n",
    "    while L <= H:\n",
    "        M = (L + H) // 2\n",
    "        if x == S[M]:\n",
    "            return M\n",
    "        else:\n",
    "            if x > S[M]:\n",
    "                L = M + 1\n",
    "            else:\n",
    "                H = M - 1\n",
    "    return -1\n",
    "\n",
    "# Now call it\n",
    "sa = [1, 3, 5, 7, 9, 11]\n",
    "xa = 7\n",
    "result = binary_search(sa, xa)\n",
    "print(\"Found at index:\", result)  # Output: Found at index: 3\n",
    "\n"
   ]
  },
  {
   "cell_type": "code",
   "execution_count": 12,
   "id": "e1a145bb",
   "metadata": {},
   "outputs": [
    {
     "name": "stdout",
     "output_type": "stream",
     "text": [
      "[0, 0, 0, 0, 0]\n"
     ]
    }
   ],
   "source": [
    "import numpy as np\n",
    "def create_array(s):\n",
    "    array = [0]*s\n",
    "    return array\n",
    "\n",
    "arr = create_array(5)\n",
    "print(arr)"
   ]
  },
  {
   "cell_type": "code",
   "execution_count": 13,
   "id": "8dc12583",
   "metadata": {},
   "outputs": [
    {
     "name": "stdout",
     "output_type": "stream",
     "text": [
      "0\n",
      "34\n",
      "4\n",
      "5\n",
      "5\n",
      "4\n"
     ]
    }
   ],
   "source": [
    "#iterate\n",
    "arr = [0,34,4,5,5,4]\n",
    "def iterate(arr):\n",
    "    for elem in arr:\n",
    "        print(elem) \n",
    "        \n",
    "iterate(arr)\n",
    "\n"
   ]
  },
  {
   "cell_type": "code",
   "execution_count": null,
   "id": "2f6ecc24",
   "metadata": {},
   "outputs": [
    {
     "ename": "IndexError",
     "evalue": "index 5 is out of bounds for axis 0 with size 5",
     "output_type": "error",
     "traceback": [
      "\u001b[1;31m---------------------------------------------------------------------------\u001b[0m",
      "\u001b[1;31mIndexError\u001b[0m                                Traceback (most recent call last)",
      "Cell \u001b[1;32mIn[16], line 10\u001b[0m\n\u001b[0;32m      7\u001b[0m     \u001b[38;5;28;01mreturn\u001b[39;00m newA\n\u001b[0;32m      9\u001b[0m original \u001b[38;5;241m=\u001b[39m np\u001b[38;5;241m.\u001b[39marray([\u001b[38;5;241m1\u001b[39m, \u001b[38;5;241m2\u001b[39m, \u001b[38;5;241m3\u001b[39m, \u001b[38;5;241m4\u001b[39m, \u001b[38;5;241m5\u001b[39m])\n\u001b[1;32m---> 10\u001b[0m resized_up \u001b[38;5;241m=\u001b[39m \u001b[43mresize\u001b[49m\u001b[43m(\u001b[49m\u001b[43moriginal\u001b[49m\u001b[43m,\u001b[49m\u001b[43m \u001b[49m\u001b[38;5;241;43m7\u001b[39;49m\u001b[43m)\u001b[49m   \u001b[38;5;66;03m# [1 2 3 4 5 0 0]\u001b[39;00m\n\u001b[0;32m     11\u001b[0m resized_down \u001b[38;5;241m=\u001b[39m resize(original, \u001b[38;5;241m3\u001b[39m) \u001b[38;5;66;03m# [1 2 3]\u001b[39;00m\n\u001b[0;32m     13\u001b[0m \u001b[38;5;28mprint\u001b[39m(\u001b[38;5;124m\"\u001b[39m\u001b[38;5;124mResized Up:\u001b[39m\u001b[38;5;124m\"\u001b[39m, resized_up)\n",
      "Cell \u001b[1;32mIn[16], line 6\u001b[0m, in \u001b[0;36mresize\u001b[1;34m(arr, newSize)\u001b[0m\n\u001b[0;32m      4\u001b[0m newA \u001b[38;5;241m=\u001b[39m np\u001b[38;5;241m.\u001b[39mzeros(newSize, dtype\u001b[38;5;241m=\u001b[39m\u001b[38;5;28mint\u001b[39m)\n\u001b[0;32m      5\u001b[0m \u001b[38;5;28;01mfor\u001b[39;00m i \u001b[38;5;129;01min\u001b[39;00m \u001b[38;5;28mrange\u001b[39m( newSize):\n\u001b[1;32m----> 6\u001b[0m     newA[i] \u001b[38;5;241m=\u001b[39m \u001b[43marr\u001b[49m\u001b[43m[\u001b[49m\u001b[43mi\u001b[49m\u001b[43m]\u001b[49m\n\u001b[0;32m      7\u001b[0m \u001b[38;5;28;01mreturn\u001b[39;00m newA\n",
      "\u001b[1;31mIndexError\u001b[0m: index 5 is out of bounds for axis 0 with size 5"
     ]
    }
   ],
   "source": [
    "import numpy as np\n",
    "\n",
    "def resize(arr, newSize):\n",
    "    newA = np.zeros(newSize, dtype=int)\n",
    "    for i in range(min(len(arr), newSize)):\n",
    "        newA[i] = arr[i]\n",
    "    return newA\n",
    "\n",
    "original = np.array([1, 2, 3, 4, 5])\n",
    "resized_up = resize(original, 7)   # [1 2 3 4 5 0 0]\n",
    "resized_down = resize(original, 3) # [1 2 3]\n",
    "\n",
    "print(\"Resized Up:\", resized_up)\n",
    "print(\"Resized Down:\", resized_down)\n"
   ]
  }
 ],
 "metadata": {
  "kernelspec": {
   "display_name": "Python 3",
   "language": "python",
   "name": "python3"
  },
  "language_info": {
   "codemirror_mode": {
    "name": "ipython",
    "version": 3
   },
   "file_extension": ".py",
   "mimetype": "text/x-python",
   "name": "python",
   "nbconvert_exporter": "python",
   "pygments_lexer": "ipython3",
   "version": "3.12.10"
  }
 },
 "nbformat": 4,
 "nbformat_minor": 5
}
