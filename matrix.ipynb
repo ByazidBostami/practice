{
 "cells": [
  {
   "cell_type": "code",
   "execution_count": null,
   "id": "c1b14538",
   "metadata": {},
   "outputs": [],
   "source": [
    "import numpy as np\n",
    "def create_2d_array(row,cols,initial_value = 0):\n",
    "    matrix = np.zeros((row,cols), dtype = int)\n",
    "    if initial_value!=0:\n",
    "        for i in range(row):\n",
    "            for j in range(cols):\n",
    "                matrix[i][j]= initial_value\n",
    "                \n",
    "    return matrix.tolist"
   ]
  },
  {
   "cell_type": "code",
   "execution_count": null,
   "id": "91af8ad8",
   "metadata": {},
   "outputs": [],
   "source": [
    "#iterate cols\n",
    "def iterate_cols(matrix):\n",
    "    rows = len(matrix)\n",
    "    cols = len(matrix[0])\n",
    "    for j in range(cols):\n",
    "        for i in range(rows):\n",
    "            print(matrix[i][j],end = \"\")\n",
    "        print()"
   ]
  },
  {
   "cell_type": "code",
   "execution_count": null,
   "id": "9b975701",
   "metadata": {},
   "outputs": [],
   "source": [
    "def swap_columns(matrix):\n",
    "    rows = len(matrix)\n",
    "    cols = len(matrix[0])\n",
    "    for i in range(rows):\n",
    "        for j in range(cols//2):\n",
    "            temp = matrix[i][j]\n",
    "            matrix[i][j] = matrix[i][cols-1-j]\n",
    "            matrix[i][cols-1-j]= temp\n",
    "            \n",
    "    return matrix"
   ]
  }
 ],
 "metadata": {
  "language_info": {
   "name": "python"
  }
 },
 "nbformat": 4,
 "nbformat_minor": 5
}
