{
 "cells": [
  {
   "cell_type": "code",
   "execution_count": 2,
   "id": "4fd03d3a",
   "metadata": {},
   "outputs": [
    {
     "name": "stdout",
     "output_type": "stream",
     "text": [
      "[7, 4, 9, 1, 1]\n",
      "[8, 3, 5, 3, 4]\n",
      "[5, 5, 1, 6, 8]\n",
      "[3, 8, 7, 8, 7]\n",
      "[1, 2, 3, 4, 5]\n",
      "[2, 7, 6, 2, 3]\n",
      "[4, 6, 2, 5, 9]\n",
      "[6, 9, 8, 9, 6]\n",
      "[9, 1, 4, 7, 2]\n"
     ]
    }
   ],
   "source": [
    "# unlockSafe\n",
    "def unlockSafe(mat, com):\n",
    "    rows, cols = 9, 5\n",
    "    \n",
    "    for col in range(cols):\n",
    "        target = com[col]\n",
    "        index = -1\n",
    "        \n",
    "        # Step 1: Find the target index in this column\n",
    "        for row in range(rows):\n",
    "            if mat[row][col] == target:\n",
    "                index = row\n",
    "                break \n",
    "        \n",
    "        # Step 2: Calculate how many times to rotate upward\n",
    "        shift = (index - 4) % rows\n",
    "        \n",
    "        # Step 3: Rotate upward 'shift' times\n",
    "        for _ in range(shift):\n",
    "            top = mat[0][col]\n",
    "            for row in range(1, rows):\n",
    "                mat[row - 1][col] = mat[row][col]\n",
    "            mat[rows - 1][col] = top\n",
    "            \n",
    "    return mat\n",
    "\n",
    "mat = [\n",
    "    [2, 8, 9, 6, 7],\n",
    "    [4, 2, 5, 8, 5],\n",
    "    [6, 7, 1, 4, 3],\n",
    "    [9, 6, 7, 2, 9],\n",
    "    [7, 9, 3, 5, 6],\n",
    "    [8, 1, 6, 9, 2],\n",
    "    [5, 4, 2, 7, 1],\n",
    "    [3, 3, 8, 1, 4],\n",
    "    [1, 5, 4, 3, 8],\n",
    "]\n",
    "\n",
    "com = [1, 2, 3, 4, 5]\n",
    "\n",
    "result = unlockSafe(mat, com)\n",
    "\n",
    "# Print the rotated matrix\n",
    "for row in result:\n",
    "    print(row)\n"
   ]
  },
  {
   "cell_type": "code",
   "execution_count": null,
   "id": "220442e6",
   "metadata": {},
   "outputs": [
    {
     "ename": "SyntaxError",
     "evalue": "incomplete input (777224453.py, line 9)",
     "output_type": "error",
     "traceback": [
      "\u001b[1;36m  Cell \u001b[1;32mIn[3], line 9\u001b[1;36m\u001b[0m\n\u001b[1;33m    # Returns an integer index\u001b[0m\n\u001b[1;37m                              ^\u001b[0m\n\u001b[1;31mSyntaxError\u001b[0m\u001b[1;31m:\u001b[0m incomplete input\n"
     ]
    }
   ],
   "source": [
    "class Node:\n",
    "    def __init__(self, key, val):\n",
    "        self.key = key\n",
    "        self.val = val\n",
    "        self.next = None\n",
    "\n",
    "\n",
    "# Assume this hash function is already defined\n",
    "def hash_Function(key):\n",
    "    return sum(ord(c) for c in key) % 10  # example: simple hash based on ASCII sum\n",
    "\n",
    "\n",
    "def insert_Hash(key, value, ht):\n",
    "    index = hash_Function(key)\n",
    "    head = ht[index]\n",
    "\n",
    "    # Step 1: Check if key already exists\n",
    "    temp = head\n",
    "    while temp:\n",
    "        if temp.key == key:\n",
    "            temp.val = value  # update value\n",
    "            return\n",
    "        temp = temp.next\n",
    "\n",
    "    # Step 2: Key doesn't exist → create new node\n",
    "    new_node = Node(key, value)\n",
    "\n",
    "    if value % 2 == 0:\n",
    "        # Even → insert at beginning\n",
    "        new_node.next = ht[index]\n",
    "        ht[index] = new_node\n",
    "    else:\n",
    "        # Odd → insert at end\n",
    "        if ht[index] is None:\n",
    "            ht[index] = new_node\n",
    "        else:\n",
    "            current = ht[index]\n",
    "            while current.next is not None:\n",
    "                current = current.next\n",
    "            current.next = new_node\n",
    "# Create a hash table (array of size 10)\n",
    "ht = [None] * 10\n",
    "\n",
    "insert_Hash(\"apple\", 4, ht)    # even → insert at beginning\n",
    "insert_Hash(\"banana\", 5, ht)   # odd → insert at end\n",
    "insert_Hash(\"apple\", 6, ht)    # same key → update to 6\n",
    "\n",
    "# Print hash table content\n",
    "for i, node in enumerate(ht):\n",
    "    print(f\"Index {i}:\", end=\" \")\n",
    "    while node:\n",
    "        print(f\"({node.key}, {node.val})\", end=\" -> \")\n",
    "        node = node.next\n",
    "    print(\"None\")\n"
   ]
  },
  {
   "cell_type": "code",
   "execution_count": null,
   "id": "2040a875",
   "metadata": {},
   "outputs": [],
   "source": []
  }
 ],
 "metadata": {
  "kernelspec": {
   "display_name": "Python 3",
   "language": "python",
   "name": "python3"
  },
  "language_info": {
   "codemirror_mode": {
    "name": "ipython",
    "version": 3
   },
   "file_extension": ".py",
   "mimetype": "text/x-python",
   "name": "python",
   "nbconvert_exporter": "python",
   "pygments_lexer": "ipython3",
   "version": "3.12.10"
  }
 },
 "nbformat": 4,
 "nbformat_minor": 5
}
