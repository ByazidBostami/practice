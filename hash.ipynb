{
 "cells": [
  {
   "cell_type": "code",
   "execution_count": null,
   "id": "2262d5a3",
   "metadata": {},
   "outputs": [],
   "source": [
    "class Node:\n",
    "    def __init__(self, key, value):\n",
    "        self.key = key \n",
    "        self.value = value\n",
    "        self.next = None\n",
    "        \n",
    "class Hashtable:\n",
    "    def __init__(self, size):\n",
    "        self.size = size\n",
    "        self.table = [None]*size\n",
    "        \n",
    "    def hash_function(self,key):\n",
    "        return abs(hash(key))% self.size  \n",
    "    \n",
    "    def insert(self, key ,value):\n",
    "        index = self.hash_function(key)\n",
    "        current = self.table[index]\n",
    "        \n",
    "        \n",
    "        while current:\n",
    "            if current.key == key:\n",
    "                current.value = value \n",
    "                return \n",
    "            \n",
    "            current = current.next\n",
    "            \n",
    "            \n",
    "        new_node = Node(key,value)\n",
    "        new_node.next = self.table[index]\n",
    "        self.table[index] = new_node"
   ]
  }
 ],
 "metadata": {
  "language_info": {
   "name": "python"
  }
 },
 "nbformat": 4,
 "nbformat_minor": 5
}
