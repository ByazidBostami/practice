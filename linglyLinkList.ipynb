{
 "cells": [
  {
   "cell_type": "code",
   "execution_count": null,
   "id": "756b4e81",
   "metadata": {},
   "outputs": [],
   "source": [
    "class Singlylinklist:\n",
    "    \n",
    "    \n",
    "    class Node:\n",
    "        def __init__(self, elem):\n",
    "            self.elem = elem\n",
    "            self.next = None\n",
    "    \n",
    "    def __init__(self):\n",
    "        self.head = None\n",
    "        \n",
    "    #from array \n",
    "    def create_from_array(self,arr):\n",
    "        if not arr:\n",
    "            return \n",
    "        self.head = self.Node(arr[0])\n",
    "        current = self.head\n",
    "        for elem in arr[1:]:\n",
    "            current.next = self.Node(elem)\n",
    "            current = current.next\n",
    "        \n",
    "    #iteration\n",
    "    def iteration(self):\n",
    "        current = self.head\n",
    "        while current != None:\n",
    "            print(f\"{current.elem} ->\", end = \"\")\n",
    "            current = current.next\n",
    "        print()\n",
    "        \n",
    "    #update\n",
    "    #need get node method \n",
    "    def getNode(self,index):\n",
    "        current_index = 0\n",
    "        current = self.head\n",
    "        while current!= None:\n",
    "            if current_index == index:\n",
    "                return current\n",
    "            current = current.next\n",
    "            current_index += 1\n",
    "        return None\n",
    "    def update(self,index,new_value):\n",
    "        node = self.getNode(index)\n",
    "        if node:\n",
    "            node.elem = new_value\n",
    "            return True\n",
    "        return False\n",
    "    "
   ]
  }
 ],
 "metadata": {
  "language_info": {
   "name": "python"
  }
 },
 "nbformat": 4,
 "nbformat_minor": 5
}
